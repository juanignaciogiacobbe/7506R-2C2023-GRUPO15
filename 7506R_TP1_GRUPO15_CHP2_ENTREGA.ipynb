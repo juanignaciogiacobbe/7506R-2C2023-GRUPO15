{
  "nbformat": 4,
  "nbformat_minor": 0,
  "metadata": {
    "colab": {
      "provenance": [],
      "authorship_tag": "ABX9TyNN/6JjrOStPINndz3F4TmM",
      "include_colab_link": true
    },
    "kernelspec": {
      "name": "python3",
      "display_name": "Python 3"
    },
    "language_info": {
      "name": "python"
    }
  },
  "cells": [
    {
      "cell_type": "markdown",
      "metadata": {
        "id": "view-in-github",
        "colab_type": "text"
      },
      "source": [
        "<a href=\"https://colab.research.google.com/github/juanignaciogiacobbe/7506R-2C2023-GRUPO15/blob/main/7506R_TP1_GRUPO15_CHP2_ENTREGA.ipynb\" target=\"_parent\"><img src=\"https://colab.research.google.com/assets/colab-badge.svg\" alt=\"Open In Colab\"/></a>"
      ]
    },
    {
      "cell_type": "markdown",
      "source": [
        "# <center>Organizaci&oacute;n de Datos</center>\n",
        "#### <center>C&aacute;tedra Ing. Rodriguez, Juan Manuel </center>\n",
        "\n",
        "## <center>Trabajo Práctico 1: Reservas de Hotel</center>\n",
        "### <center> Grupo número 15</center>\n",
        "### <center> Giacobbe, Juan Ignacio; Olaran ,Sebastian; Ayala, Tomás</center>"
      ],
      "metadata": {
        "id": "nLUZ1zEndWpb"
      }
    },
    {
      "cell_type": "markdown",
      "source": [
        "#**Checkpoint 2**: Árbol de decisión\n"
      ],
      "metadata": {
        "id": "EWMmspQtdaBC"
      }
    },
    {
      "cell_type": "code",
      "execution_count": 1,
      "metadata": {
        "colab": {
          "base_uri": "https://localhost:8080/"
        },
        "id": "fntYCr8rysiy",
        "outputId": "9b685395-a3b6-4b15-fee9-ba288bbd6061"
      },
      "outputs": [
        {
          "output_type": "stream",
          "name": "stdout",
          "text": [
            "Mounted at /content/drive\n"
          ]
        }
      ],
      "source": [
        "from google.colab import drive\n",
        "drive.mount('/content/drive')"
      ]
    },
    {
      "cell_type": "markdown",
      "source": [
        "Importamos las librerías que vamos a utilizar"
      ],
      "metadata": {
        "id": "_5XGcTlGdegs"
      }
    },
    {
      "cell_type": "code",
      "execution_count": 2,
      "metadata": {
        "id": "Y_nKUQChdTNj"
      },
      "outputs": [],
      "source": [
        "#Para análisis de los datos\n",
        "import pandas as pd\n",
        "import numpy as np\n",
        "\n",
        "#Para visualizaciones\n",
        "import seaborn as sns\n",
        "from matplotlib import pyplot as plt"
      ]
    },
    {
      "cell_type": "markdown",
      "source": [
        "Cargamos los archivos csv de datos en dos DataFrames de Pandas(importamos para el dataset de train el dataset que nos quedó como resultado en el checkpoint 1)"
      ],
      "metadata": {
        "id": "4The7-Lpdjto"
      }
    },
    {
      "cell_type": "code",
      "source": [
        "ds_hoteles_test = pd.read_csv('./hotels_test.csv')\n",
        "ds_hoteles_train = pd.read_csv('./hoteles_train_final.csv')"
      ],
      "metadata": {
        "id": "FlJUUxqXdpo7"
      },
      "execution_count": 6,
      "outputs": []
    }
  ]
}